{
 "cells": [
  {
   "cell_type": "markdown",
   "source": [
    "## Набиуллин Иван Павлович"
   ],
   "metadata": {
    "collapsed": false
   },
   "id": "e9e4b2cfce37da19"
  },
  {
   "cell_type": "code",
   "execution_count": 1,
   "outputs": [],
   "source": [
    "import numpy as np\n",
    "import pandas as pd\n",
    "import matplotlib.pyplot as plt\n",
    "import seaborn as sns\n",
    "from sklearn.metrics import mean_squared_error\n",
    "from sklearn.linear_model import LinearRegression, Ridge\n",
    "from tqdm import tqdm\n",
    "from sklearn.metrics import mean_absolute_percentage_error\n",
    "from tsfresh import extract_features, select_features\n",
    "from tsfresh.utilities.dataframe_functions import impute\n",
    "\n",
    "%matplotlib inline\n",
    "import warnings\n",
    "warnings.filterwarnings(\"ignore\")"
   ],
   "metadata": {
    "collapsed": false,
    "ExecuteTime": {
     "end_time": "2023-11-16T14:48:27.954349400Z",
     "start_time": "2023-11-16T14:48:26.256962700Z"
    }
   },
   "id": "22664e4f363623ee"
  },
  {
   "cell_type": "markdown",
   "source": [
    "# Предварительная обработка данных\n",
    "- Отрицательные значения объемов продаж заменяю на 0 (в этот день ничего не продали, лучше недооценить чем переоценить прибыль)\n",
    "- Отрицательные значения цен заменяю средней по группе день - продукт - товар\n",
    "- С данными конкурентов и погоды все хорошо"
   ],
   "metadata": {
    "collapsed": false
   },
   "id": "8e845f0ce71c660a"
  },
  {
   "cell_type": "code",
   "execution_count": 3,
   "outputs": [],
   "source": [
    "competitors = pd.read_parquet(\"df_competitors.parquet\")\n",
    "cost = pd.read_parquet(\"df_cost.parquet\")\n",
    "transactions = pd.read_parquet(\"transaction_df.parquet\")\n",
    "weather = pd.read_parquet(\"weather_df.parquet\")"
   ],
   "metadata": {
    "collapsed": false,
    "ExecuteTime": {
     "end_time": "2023-11-16T14:49:05.682067300Z",
     "start_time": "2023-11-16T14:49:05.471697700Z"
    }
   },
   "id": "4a6247d7f2b5b4e5"
  },
  {
   "cell_type": "code",
   "execution_count": 9,
   "outputs": [
    {
     "data": {
      "text/plain": "price           -7154.53   3.90   \nproduct                           \nЦелебные травы         1        19",
      "text/html": "<div>\n<style scoped>\n    .dataframe tbody tr th:only-of-type {\n        vertical-align: middle;\n    }\n\n    .dataframe tbody tr th {\n        vertical-align: top;\n    }\n\n    .dataframe thead th {\n        text-align: right;\n    }\n</style>\n<table border=\"1\" class=\"dataframe\">\n  <thead>\n    <tr style=\"text-align: right;\">\n      <th>price</th>\n      <th>-7154.53</th>\n      <th>3.90</th>\n    </tr>\n    <tr>\n      <th>product</th>\n      <th></th>\n      <th></th>\n    </tr>\n  </thead>\n  <tbody>\n    <tr>\n      <th>Целебные травы</th>\n      <td>1</td>\n      <td>19</td>\n    </tr>\n  </tbody>\n</table>\n</div>"
     },
     "execution_count": 9,
     "metadata": {},
     "output_type": "execute_result"
    }
   ],
   "source": [
    "pd.crosstab(transactions['product'].head(20), transactions['price'].head(20))"
   ],
   "metadata": {
    "collapsed": false,
    "ExecuteTime": {
     "end_time": "2023-11-16T14:51:18.548402700Z",
     "start_time": "2023-11-16T14:51:18.507654600Z"
    }
   },
   "id": "499bdc688a384ef4"
  },
  {
   "cell_type": "code",
   "execution_count": 1199,
   "outputs": [
    {
     "name": "stdout",
     "output_type": "stream",
     "text": [
      "False\n"
     ]
    }
   ],
   "source": [
    "transactions['amount'] = transactions['amount'].apply(lambda x: max(0, x)) \n",
    "transactions = transactions.dropna(subset=['place'])\n",
    "any_na = transactions.isna().any().any()\n",
    "print(any_na)"
   ],
   "metadata": {
    "collapsed": false,
    "ExecuteTime": {
     "end_time": "2023-11-13T02:11:02.490706200Z",
     "start_time": "2023-11-13T02:11:02.058874300Z"
    }
   },
   "id": "582d32648624c4dc"
  },
  {
   "cell_type": "code",
   "execution_count": 1200,
   "outputs": [],
   "source": [
    "transactions.sort_values(by='datetime', ascending=True, inplace=True)\n",
    "transactions['day'] = pd.to_datetime(transactions['datetime']).dt.date\n",
    "\n",
    "# Группируем по дням, продуктам и городам\n",
    "grouped_data = transactions.groupby(['day', 'product', 'place'])\n",
    "\n",
    "# Считаем среднюю цену для каждой комбинации, не учитывая отрицательные цены\n",
    "average_price_data = grouped_data['price'].apply(lambda x: x[x >=0].mean()).reset_index()\n",
    "average_price_data.columns = ['day', 'product', 'place', 'correct_price']\n",
    "\n",
    "transactions = transactions.merge(average_price_data, on=['day', 'product', 'place'], how='left')\n",
    "\n",
    "# Заменяем отрицательные цены средними ценами за день\n",
    "transactions['price'] = transactions.apply(\n",
    "    lambda row: row['correct_price'] if row['price'] < 0 else row['price'], axis=1)\n",
    "transactions = transactions.drop(columns=['correct_price'])"
   ],
   "metadata": {
    "collapsed": false,
    "ExecuteTime": {
     "end_time": "2023-11-13T02:11:13.255074Z",
     "start_time": "2023-11-13T02:11:02.490706200Z"
    }
   },
   "id": "ca2186ef049d30d3"
  },
  {
   "cell_type": "code",
   "execution_count": 1201,
   "outputs": [
    {
     "data": {
      "text/plain": "          product  price    amount          place            datetime  \\\n0  Целебные травы   6.39  0.213086      Фалькония 2216-01-02 00:08:00   \n1  Целебные травы   7.29  1.061766  Врата Балдура 2216-01-02 00:10:00   \n2  Целебные травы   3.69  0.536039      Кеджистан 2216-01-02 00:10:00   \n3           Эстус   4.19  0.149083      Кеджистан 2216-01-02 00:12:00   \n4  Целебные травы   7.29  0.913862  Врата Балдура 2216-01-02 00:13:00   \n\n          day  \n0  2216-01-02  \n1  2216-01-02  \n2  2216-01-02  \n3  2216-01-02  \n4  2216-01-02  ",
      "text/html": "<div>\n<style scoped>\n    .dataframe tbody tr th:only-of-type {\n        vertical-align: middle;\n    }\n\n    .dataframe tbody tr th {\n        vertical-align: top;\n    }\n\n    .dataframe thead th {\n        text-align: right;\n    }\n</style>\n<table border=\"1\" class=\"dataframe\">\n  <thead>\n    <tr style=\"text-align: right;\">\n      <th></th>\n      <th>product</th>\n      <th>price</th>\n      <th>amount</th>\n      <th>place</th>\n      <th>datetime</th>\n      <th>day</th>\n    </tr>\n  </thead>\n  <tbody>\n    <tr>\n      <th>0</th>\n      <td>Целебные травы</td>\n      <td>6.39</td>\n      <td>0.213086</td>\n      <td>Фалькония</td>\n      <td>2216-01-02 00:08:00</td>\n      <td>2216-01-02</td>\n    </tr>\n    <tr>\n      <th>1</th>\n      <td>Целебные травы</td>\n      <td>7.29</td>\n      <td>1.061766</td>\n      <td>Врата Балдура</td>\n      <td>2216-01-02 00:10:00</td>\n      <td>2216-01-02</td>\n    </tr>\n    <tr>\n      <th>2</th>\n      <td>Целебные травы</td>\n      <td>3.69</td>\n      <td>0.536039</td>\n      <td>Кеджистан</td>\n      <td>2216-01-02 00:10:00</td>\n      <td>2216-01-02</td>\n    </tr>\n    <tr>\n      <th>3</th>\n      <td>Эстус</td>\n      <td>4.19</td>\n      <td>0.149083</td>\n      <td>Кеджистан</td>\n      <td>2216-01-02 00:12:00</td>\n      <td>2216-01-02</td>\n    </tr>\n    <tr>\n      <th>4</th>\n      <td>Целебные травы</td>\n      <td>7.29</td>\n      <td>0.913862</td>\n      <td>Врата Балдура</td>\n      <td>2216-01-02 00:13:00</td>\n      <td>2216-01-02</td>\n    </tr>\n  </tbody>\n</table>\n</div>"
     },
     "execution_count": 1201,
     "metadata": {},
     "output_type": "execute_result"
    }
   ],
   "source": [
    "transactions.head()"
   ],
   "metadata": {
    "collapsed": false,
    "ExecuteTime": {
     "end_time": "2023-11-13T02:11:13.263067900Z",
     "start_time": "2023-11-13T02:11:13.255074Z"
    }
   },
   "id": "938709e30dd1239c"
  },
  {
   "cell_type": "code",
   "execution_count": 1202,
   "outputs": [
    {
     "data": {
      "text/plain": "Empty DataFrame\nColumns: [product, price, amount, place, datetime, day]\nIndex: []",
      "text/html": "<div>\n<style scoped>\n    .dataframe tbody tr th:only-of-type {\n        vertical-align: middle;\n    }\n\n    .dataframe tbody tr th {\n        vertical-align: top;\n    }\n\n    .dataframe thead th {\n        text-align: right;\n    }\n</style>\n<table border=\"1\" class=\"dataframe\">\n  <thead>\n    <tr style=\"text-align: right;\">\n      <th></th>\n      <th>product</th>\n      <th>price</th>\n      <th>amount</th>\n      <th>place</th>\n      <th>datetime</th>\n      <th>day</th>\n    </tr>\n  </thead>\n  <tbody>\n  </tbody>\n</table>\n</div>"
     },
     "execution_count": 1202,
     "metadata": {},
     "output_type": "execute_result"
    }
   ],
   "source": [
    "# Отрицательных цен больше нет\n",
    "transactions[transactions['price']<=0]"
   ],
   "metadata": {
    "collapsed": false,
    "ExecuteTime": {
     "end_time": "2023-11-13T02:11:13.273176100Z",
     "start_time": "2023-11-13T02:11:13.263067900Z"
    }
   },
   "id": "8200e0037767c0c0"
  },
  {
   "cell_type": "code",
   "execution_count": 1203,
   "outputs": [],
   "source": [
    "# В какой-то комбинации город-товар-день могло быть ничего не продано\n",
    "# Поэтому делаем датафрейм с уникальными комбинациями\n",
    "days=transactions['day'].unique()\n",
    "places = transactions['place'].unique()\n",
    "products = transactions['product'].unique()\n",
    "all_combinations = pd.DataFrame([(place, day, product) for place in places for day in days for product in products],\n",
    "                                columns=['place', 'day', 'product'])\n",
    "\n",
    "# Соединяем датафреймы чтобы не потерять при группировке комбинации где не было транзакций\n",
    "transactions = all_combinations.merge(transactions, on=['place', 'day', 'product'], how='left')"
   ],
   "metadata": {
    "collapsed": false,
    "ExecuteTime": {
     "end_time": "2023-11-13T02:11:13.645098600Z",
     "start_time": "2023-11-13T02:11:13.273176100Z"
    }
   },
   "id": "bc2dcc9446d9cfe8"
  },
  {
   "cell_type": "code",
   "execution_count": 1204,
   "outputs": [
    {
     "name": "stdout",
     "output_type": "stream",
     "text": [
      "                place         day            product  price  amount datetime\n",
      "260152  Врата Балдура  2217-04-03  Эльфийская пыльца    NaN     NaN      NaT\n",
      "267486  Врата Балдура  2217-07-01  Эльфийская пыльца    NaN     NaN      NaT\n"
     ]
    }
   ],
   "source": [
    "# Двух комбинаций не было\n",
    "missing_data = transactions[(transactions['price'].isna()) | (transactions['amount'].isna())]\n",
    "print(missing_data)"
   ],
   "metadata": {
    "collapsed": false,
    "ExecuteTime": {
     "end_time": "2023-11-13T02:11:13.652529200Z",
     "start_time": "2023-11-13T02:11:13.645098600Z"
    }
   },
   "id": "6bae4d29cccc5808"
  },
  {
   "cell_type": "code",
   "execution_count": 1205,
   "outputs": [],
   "source": [
    "# Количество заполним нулями, а цену ценой за предыдущий день для того же товара - города\n",
    "\n",
    "transactions.sort_values(['place', 'product', 'day'], inplace=True)\n",
    "transactions['amount'].fillna(0, inplace=True)\n",
    "transactions['price'] = transactions.groupby(['place', 'product'])['price'].fillna(method='ffill')"
   ],
   "metadata": {
    "collapsed": false,
    "ExecuteTime": {
     "end_time": "2023-11-13T02:11:14.149430100Z",
     "start_time": "2023-11-13T02:11:13.652529200Z"
    }
   },
   "id": "734393adbc6772ce"
  },
  {
   "cell_type": "code",
   "execution_count": 1206,
   "outputs": [
    {
     "name": "stdout",
     "output_type": "stream",
     "text": [
      "Empty DataFrame\n",
      "Columns: [place, day, product, price, amount, datetime]\n",
      "Index: []\n"
     ]
    }
   ],
   "source": [
    "# Проверка на NaN\n",
    "missing_data = transactions[(transactions['price'].isna()) | (transactions['amount'].isna())]\n",
    "print(missing_data)\n",
    "# Теперь все в порядке"
   ],
   "metadata": {
    "collapsed": false,
    "ExecuteTime": {
     "end_time": "2023-11-13T02:11:14.155610500Z",
     "start_time": "2023-11-13T02:11:14.149430100Z"
    }
   },
   "id": "c0e2a5006305f71"
  },
  {
   "cell_type": "code",
   "execution_count": 1207,
   "outputs": [],
   "source": [
    "transactions = transactions.groupby(['place', 'day', 'product']).agg({\n",
    "    'price': 'mean',\n",
    "    'amount': 'sum',\n",
    "}).reset_index()"
   ],
   "metadata": {
    "collapsed": false,
    "ExecuteTime": {
     "end_time": "2023-11-13T02:11:14.343925600Z",
     "start_time": "2023-11-13T02:11:14.155610500Z"
    }
   },
   "id": "ff402b40866d34a5"
  },
  {
   "cell_type": "code",
   "execution_count": 1208,
   "outputs": [
    {
     "data": {
      "text/plain": "(15000, 5)"
     },
     "execution_count": 1208,
     "metadata": {},
     "output_type": "execute_result"
    }
   ],
   "source": [
    "transactions.shape"
   ],
   "metadata": {
    "collapsed": false,
    "ExecuteTime": {
     "end_time": "2023-11-13T02:11:14.348476500Z",
     "start_time": "2023-11-13T02:11:14.343925600Z"
    }
   },
   "id": "40f6313ca2a1933"
  },
  {
   "cell_type": "code",
   "execution_count": 1209,
   "outputs": [],
   "source": [
    "# Данные о разных конкурентах группируем и приводим к минимальным, средним и максимальным ценам в каждой группе\n",
    "\n",
    "competitors = competitors.groupby(['date', 'place', 'product'])['price'].agg(\n",
    "    competitors_min='min',\n",
    "    competitors_mean='mean',\n",
    "    competitors_max='max'\n",
    ").reset_index()"
   ],
   "metadata": {
    "collapsed": false,
    "ExecuteTime": {
     "end_time": "2023-11-13T02:11:14.364047300Z",
     "start_time": "2023-11-13T02:11:14.348476500Z"
    }
   },
   "id": "c7f5bb807d3b5777"
  },
  {
   "cell_type": "code",
   "execution_count": 1210,
   "outputs": [],
   "source": [
    "all_combinations = all_combinations.rename({'day' : 'date'} , axis=1)\n",
    "all_combinations['date'] = pd.to_datetime((all_combinations['date']))"
   ],
   "metadata": {
    "collapsed": false,
    "ExecuteTime": {
     "end_time": "2023-11-13T02:11:14.370128300Z",
     "start_time": "2023-11-13T02:11:14.364047300Z"
    }
   },
   "id": "1f18e009142460ad"
  },
  {
   "cell_type": "code",
   "execution_count": 1211,
   "outputs": [],
   "source": [
    "# Не хватает данных о себестоимости\n",
    "cost['date'].nunique()\n",
    "cost_no_missing = all_combinations.merge(cost, on=['place', 'date', 'product'], how='left')\n",
    "\n",
    "# Применяем линейную интерполяцию для того, чтобы заполнить пропуски в каждой группе себестоимостей\n",
    "cost_no_missing['cost'] = cost_no_missing.sort_values('date').\\\n",
    "                        groupby(['place', 'product'])['cost'].transform(lambda group: group.interpolate(method='linear'))"
   ],
   "metadata": {
    "collapsed": false,
    "ExecuteTime": {
     "end_time": "2023-11-13T02:11:14.406311700Z",
     "start_time": "2023-11-13T02:11:14.370128300Z"
    }
   },
   "id": "9488525d7e95808e"
  },
  {
   "cell_type": "code",
   "execution_count": 1212,
   "outputs": [],
   "source": [
    "# Здесь начинаем собирать все воедино\n",
    "transactions = transactions.rename({'day' : 'date'}, axis=1)\n",
    "transactions['date'] = pd.to_datetime(transactions['date'])\n",
    "transactions = transactions.merge(weather, on=['date', 'place']).sort_values('date')\n",
    "transactions = transactions.merge(cost_no_missing, on=['date', 'place', 'product'], how='left').sort_values('date')"
   ],
   "metadata": {
    "collapsed": false,
    "ExecuteTime": {
     "end_time": "2023-11-13T02:11:14.407904200Z",
     "start_time": "2023-11-13T02:11:14.390667400Z"
    }
   },
   "id": "a7842426012845aa"
  },
  {
   "cell_type": "code",
   "execution_count": 1213,
   "outputs": [],
   "source": [
    "competitors_full = all_combinations.merge(competitors, on=['place', 'date', 'product'], how='left').sort_values('date').reset_index()\n",
    "competitors_full = competitors_full.drop('index', axis=1)\n",
    "\n",
    "# Заполняем NaN значения линейной интерполяцией\n",
    "competitors_full['competitors_min'] = (competitors_full.sort_values('date')\n",
    "                                    .groupby(['place', 'product'])['competitors_min']\n",
    "                                       .transform(lambda group: group.interpolate(method='linear')))\n",
    "competitors_full['competitors_mean'] = competitors_full.sort_values('date')\\\n",
    "                                    .groupby(['place', 'product'])['competitors_mean']\\\n",
    "                                        .transform(lambda group: group.interpolate(method='linear'))\n",
    "competitors_full['competitors_max'] = competitors_full.sort_values('date')\\\n",
    "                                    .groupby(['place', 'product'])['competitors_max']\\\n",
    "                                        .transform(lambda group: group.interpolate(method='linear'))\n",
    "\n",
    "# Заполняем оставшиеся 2 NaN значения\n",
    "competitors_full = competitors_full.fillna(method = 'bfill')"
   ],
   "metadata": {
    "collapsed": false,
    "ExecuteTime": {
     "end_time": "2023-11-13T02:11:14.451635200Z",
     "start_time": "2023-11-13T02:11:14.407904200Z"
    }
   },
   "id": "9dbc443575aa3296"
  },
  {
   "cell_type": "code",
   "execution_count": 1214,
   "outputs": [],
   "source": [
    "# Общий датафрейм для последующей работы\n",
    "df_all = transactions.merge(competitors_full, on=['date', 'place', 'product'], how='left')"
   ],
   "metadata": {
    "collapsed": false,
    "ExecuteTime": {
     "end_time": "2023-11-13T02:11:14.467044200Z",
     "start_time": "2023-11-13T02:11:14.451635200Z"
    }
   },
   "id": "5b5edc764b5646e0"
  },
  {
   "cell_type": "markdown",
   "source": [
    "# Функции"
   ],
   "metadata": {
    "collapsed": false
   },
   "id": "9d03b9ff2893deec"
  },
  {
   "cell_type": "code",
   "execution_count": 1215,
   "outputs": [],
   "source": [
    "# Кросс валидация для временных рядов\n",
    "def performTimeSeriesCV(X_train, y_train, number_folds, model, metrics):\n",
    "\n",
    "    k = int(np.floor(float(X_train.shape[0]) / number_folds))\n",
    "\n",
    "    errors = np.zeros(number_folds - 1)\n",
    "\n",
    "    # loop from the first 2 folds to the total number of folds    \n",
    "    for i in range(2, number_folds + 1):\n",
    "        split = float(i - 1) / i\n",
    "\n",
    "        X = X_train[:(k * i)]\n",
    "        y = y_train[:(k * i)]\n",
    "\n",
    "        index = int(np.floor(X.shape[0] * split))\n",
    "\n",
    "        # folds used to train the model        \n",
    "        X_trainFolds = X[:index]\n",
    "        y_trainFolds = y[:index]\n",
    "\n",
    "        # fold used to test the model\n",
    "        X_testFold = X[(index + 1):]\n",
    "        y_testFold = y[(index + 1):]\n",
    "\n",
    "        model.fit(X_trainFolds, y_trainFolds)\n",
    "        errors[i - 2] = metrics(model.predict(X_testFold), y_testFold)\n",
    "\n",
    "    # the function returns the mean of the errors on the n-1 folds    \n",
    "    return errors.mean()"
   ],
   "metadata": {
    "collapsed": false,
    "ExecuteTime": {
     "end_time": "2023-11-13T02:11:14.467044200Z",
     "start_time": "2023-11-13T02:11:14.461117800Z"
    }
   },
   "id": "7292ef0e996a52cc"
  },
  {
   "cell_type": "code",
   "execution_count": 1216,
   "outputs": [],
   "source": [
    "# Функция для приведения цен к ступенчатому виду (для соблюдения правил чемпионата)\n",
    "def make_stepped(raw_preds):\n",
    "    new_preds = []\n",
    "    days_without_change = 0\n",
    "    last_price = raw_preds[0]\n",
    "    new_preds.append(raw_preds[0])\n",
    "    for cur_price in raw_preds[1:]:\n",
    "        if days_without_change == 3:\n",
    "            days_without_change = 0\n",
    "            diff = cur_price - last_price\n",
    "            if diff > 1:\n",
    "                last_price = last_price + 1\n",
    "            if diff < -1:\n",
    "                last_price = last_price - 1\n",
    "            if -1 <= diff < 0:\n",
    "                last_price -= np.round(abs(diff), 2)\n",
    "            if 0 <= diff <= 1:\n",
    "                last_price += np.round(diff, 2)\n",
    "\n",
    "            new_preds.append(last_price)\n",
    "        else:\n",
    "            days_without_change += 1\n",
    "            new_preds.append(last_price)\n",
    "            continue\n",
    "\n",
    "    return np.round(new_preds, 2)"
   ],
   "metadata": {
    "collapsed": false,
    "ExecuteTime": {
     "end_time": "2023-11-13T02:11:14.482016300Z",
     "start_time": "2023-11-13T02:11:14.467044200Z"
    }
   },
   "id": "986ad4abb8888e15"
  },
  {
   "cell_type": "code",
   "execution_count": 1217,
   "outputs": [],
   "source": [
    "# Функция для нахождения минимумов временного ряда (в итоговом решении не используется)\n",
    "def make_min_fun(df_comp_min):\n",
    "    min_valuess = df_comp_min['competitors_min'].groupby(df_comp_min.index // 100).min()\n",
    "    result = np.interp(df_comp_min.index, min_valuess.index * 100, min_valuess)\n",
    "    return pd.Series(result) #"
   ],
   "metadata": {
    "collapsed": false,
    "ExecuteTime": {
     "end_time": "2023-11-13T02:11:14.482016300Z",
     "start_time": "2023-11-13T02:11:14.474738700Z"
    }
   },
   "id": "ba811ba32f0f5aab"
  },
  {
   "cell_type": "markdown",
   "source": [
    "# Изучение зависимостей, выбор модели, создание фичей, подбор параметров"
   ],
   "metadata": {
    "collapsed": false
   },
   "id": "76e1eb9b6a6034a5"
  },
  {
   "cell_type": "code",
   "execution_count": 1218,
   "outputs": [
    {
     "data": {
      "text/plain": "8     0.172060\n4     0.061915\n5     0.039759\n13    0.028467\n10    0.027222\n14    0.026409\n7     0.012003\n2     0.001146\n6    -0.012476\n9    -0.012506\n12   -0.032288\n1    -0.050855\n0    -0.085865\n3    -0.110262\n11   -0.147018\nName: amount-price_corr, dtype: float64"
     },
     "execution_count": 1218,
     "metadata": {},
     "output_type": "execute_result"
    }
   ],
   "source": [
    "# Корреляции для каждой из 15 комбинаций Город-Товар\n",
    "\n",
    "price_amount_corrs = {}\n",
    "for place in transactions['place'].unique():\n",
    "    for product in transactions['product'].unique():\n",
    "        price_amount_corrs[(place, product)] = transactions[(transactions['product'] == product) & (transactions['place'] == place)] \\\n",
    "            .sort_values('date')['price'].corr(transactions[(transactions['product'] == product) & (transactions['place'] == place)] \\\n",
    "                                               .sort_values('date')['amount'])\n",
    "pd.Series(price_amount_corrs.values(), name='amount-price_corr').sort_values(ascending=False)\n",
    "\n",
    "#Объемы продаж и цены почти не коррелируют между собой (отсортировал по убыванию):"
   ],
   "metadata": {
    "collapsed": false,
    "ExecuteTime": {
     "end_time": "2023-11-13T02:11:14.563971700Z",
     "start_time": "2023-11-13T02:11:14.482016300Z"
    }
   },
   "id": "4a446f5c9d6a5df8"
  },
  {
   "cell_type": "markdown",
   "source": [],
   "metadata": {
    "collapsed": false
   },
   "id": "2136ea6afb03f110"
  },
  {
   "cell_type": "code",
   "execution_count": 1219,
   "outputs": [
    {
     "data": {
      "text/plain": "<Figure size 1000x800 with 2 Axes>",
      "image/png": "[encoded data removed]"
     },
     "metadata": {},
     "output_type": "display_data"
    }
   ],
   "source": [
    "place, product = 'Анор Лондо', 'Эстус'\n",
    "corr_matrix2 = df_all.sort_values('date')[(df_all['place'] == f'{place}') & (df_all['product'] == f'{product}')] \\\n",
    "    [['price', 'amount', 'cost',  'competitors_mean', 'hot', 'rain', 'snow']].corr()\n",
    "plt.figure(figsize=(10, 8))  # Размер графика\n",
    "sns.heatmap(corr_matrix2, annot=True, cmap=\"coolwarm\", linewidths=0.5)\n",
    "plt.title(\"Матрица корреляции\")\n",
    "plt.show()\n",
    "\n",
    "# Здесь я вручную смотрел на все корреляции признаков в каждой комбинации, для того чтобы сделать примерный\n",
    "# выбор зависимых переменных для модели"
   ],
   "metadata": {
    "collapsed": false,
    "ExecuteTime": {
     "end_time": "2023-11-13T02:11:14.859174600Z",
     "start_time": "2023-11-13T02:11:14.563971700Z"
    }
   },
   "id": "da50618939acb489"
  },
  {
   "cell_type": "markdown",
   "source": [
    "### Изучил корреляции по каждой комбинации Город - Товар:\n",
    "-Цена, себестоимость и средняя цена конкурентов сильно коррелируют друг с другом.\n",
    "-Объемы продаж склонны зависеть от погоды"
   ],
   "metadata": {
    "collapsed": false
   },
   "id": "abbb28acaf5e3a9"
  },
  {
   "cell_type": "code",
   "execution_count": 1220,
   "outputs": [
    {
     "name": "stderr",
     "output_type": "stream",
     "text": [
      "100%|██████████| 5/5 [00:00<00:00,  7.62it/s]\n"
     ]
    }
   ],
   "source": [
    "# Как модель я выбрал линейную регрессию без регуляризаций. В этом блоке кода подбирал параметры.\n",
    "# Учитывая, что мы предсказываем временной ряд, нужно обозначить временную зависимость. Я использовал Lag фичи.\n",
    "# Так же пробовал использовать библиотеку tsfresh, которая достает фичи из временного ряда, но с ней мои результаты были хуже\n",
    "# поэтому блок кода закомменчен\n",
    "\n",
    "predictions_train = {}\n",
    "predictions_valid = {}\n",
    "predictions_test = {}\n",
    "errors_cv = {}\n",
    "errors_rmse = {}\n",
    "errors_mape = {}\n",
    "for place in tqdm(transactions['place'].unique()):\n",
    "    for product in transactions['product'].unique():\n",
    "        combo = (place, product)\n",
    "        cur_df = df_all[(df_all['place'] == place) & (df_all['product'] == product)].drop(columns=['place', 'product']).sort_values('date').reset_index(drop=True)\n",
    "        cur_df['date_index'] = np.arange(len(cur_df.index))\n",
    "        cur_df['moving_avg_price'] = cur_df['price'].rolling(\n",
    "            window=50,\n",
    "            center=True,\n",
    "            min_periods=10\n",
    "        ).mean()\n",
    "        cur_df['moving_avg_cost'] = cur_df['cost'].rolling(\n",
    "            window=25,\n",
    "            center=True,\n",
    "            min_periods=10\n",
    "        ).mean()\n",
    "\n",
    "        X = cur_df.sort_values('date').reset_index(drop=True)[[]]\n",
    "        y = cur_df.sort_values('date').reset_index(drop=True)['price']\n",
    "\n",
    "        test_size_coef = 0.7\n",
    "        lag_start = 90\n",
    "        lag_end = 100\n",
    "        for lag in range(lag_start, lag_end):\n",
    "            X[f'lag_price_{lag}'] = cur_df['price'].shift(lag)\n",
    "            X[f'lag_mov_avg_price_{lag}'] = cur_df['moving_avg_price'].shift(lag)\n",
    "            X[f'lag_cost_{lag}'] = cur_df['moving_avg_cost'].shift(lag)\n",
    "        X = X[lag_end-1:]\n",
    "        y = y[lag_end-1:]\n",
    "\n",
    "        # data_long = pd.DataFrame({0: X.values.flatten(),\n",
    "        #                           1: np.arange(X.shape[0]).repeat(X.shape[1])})\n",
    "        # from tsfresh.feature_extraction import settings\n",
    "        # settings = settings.MinimalFCParameters()\n",
    "        # extracted_features = extract_features(data_long, column_id=1, impute_function=impute, default_fc_parameters=settings, disable_progressbar=True)\n",
    "        # impute(extracted_features)\n",
    "        # features_filtered = select_features(extracted_features, y.reset_index(drop=True))\n",
    "        # X = pd.concat([X.reset_index(drop=True), features_filtered.reset_index(drop=True)], axis=1)\n",
    "\n",
    "        X_train = X[:int(len(X)*test_size_coef)]\n",
    "        y_train = y[:int(len(X)*test_size_coef)]\n",
    "\n",
    "        X_valid = X[int(len(X)*test_size_coef): 810]\n",
    "        y_valid = y[int(len(X)*test_size_coef): 810]\n",
    "\n",
    "        X_test = X[-100:]\n",
    "        y_test = y[-100:]\n",
    "        model_lr = Ridge(alpha=50)\n",
    "        model_lr.fit(X_train, y_train)\n",
    "        predictions_train[combo] = model_lr.predict(X_train)\n",
    "        predictions_valid[combo] = model_lr.predict(X_valid)\n",
    "        predictions_test[combo] = model_lr.predict(X_test)\n",
    "\n",
    "        errors_rmse[combo] = [np.sqrt(mean_squared_error(y_train, predictions_train[combo])),\n",
    "                              np.sqrt(mean_squared_error(y_valid, predictions_valid[combo])),\n",
    "                              np.sqrt(mean_squared_error(y_test, predictions_test[combo]))]\n",
    "        errors_mape[combo] = [mean_absolute_percentage_error(y_train, predictions_train[combo]),\n",
    "                              mean_absolute_percentage_error(y_valid, predictions_valid[combo]),\n",
    "                              mean_absolute_percentage_error(y_test, predictions_test[combo])]\n",
    "        errors_cv[combo] = np.sqrt(performTimeSeriesCV(X_train, y_train, 7, model_lr, mean_squared_error))\n",
    "        # Кросс валидация на 7 фолдов, потому что тогда каждый фолд получится 90 дней."
   ],
   "metadata": {
    "collapsed": false,
    "ExecuteTime": {
     "end_time": "2023-11-13T02:11:15.528780800Z",
     "start_time": "2023-11-13T02:11:14.859174600Z"
    }
   },
   "id": "23982c650c95c36c"
  },
  {
   "cell_type": "code",
   "execution_count": 1221,
   "outputs": [],
   "source": [
    "# Понимаю что мог бы сразу создать датафреймы (а не словари), и складывать все предсказания и ошибки туда,\n",
    "# но понял это слишком поздно)\n",
    "\n",
    "df_predictions_train = pd.DataFrame(list(predictions_train.items()), columns=['Combo', 'Prediction'])\n",
    "df_predictions_train[['Place', 'Product']] = pd.DataFrame(df_predictions_train['Combo'].tolist(), index=df_predictions_train.index)\n",
    "df_predictions_train = df_predictions_train[['Prediction', 'Place', 'Product']]\n",
    "\n",
    "df_predictions_valid = pd.DataFrame(list(predictions_valid.items()), columns=['Combo', 'Prediction'])\n",
    "df_predictions_valid[['Place', 'Product']] = pd.DataFrame(df_predictions_valid['Combo'].tolist(), index=df_predictions_valid.index)\n",
    "df_predictions_valid = df_predictions_valid[['Prediction', 'Place', 'Product']]\n",
    "\n",
    "df_predictions_test = pd.DataFrame(list(predictions_test.items()), columns=['Combo', 'Prediction'])\n",
    "df_predictions_test[['Place', 'Product']] = pd.DataFrame(df_predictions_test['Combo'].tolist(), index=df_predictions_test.index)\n",
    "df_predictions_test = df_predictions_test[['Prediction', 'Place', 'Product']]\n",
    "\n",
    "df_errors_rmse = pd.DataFrame(list(errors_rmse.items()), columns=['Combo', 'Error_Value'])\n",
    "df_errors_rmse[['Place', 'Product']] = pd.DataFrame(df_errors_rmse['Combo'].tolist(), index=df_errors_rmse.index)\n",
    "df_errors_rmse[['Train_Err', 'Valid_Err', 'Test_Err']] = pd.DataFrame(df_errors_rmse['Error_Value'].tolist(), index=df_errors_rmse.index)\n",
    "df_errors_rmse = df_errors_rmse[['Place', 'Product', 'Train_Err', 'Valid_Err', 'Test_Err']]\n",
    "\n",
    "df_errors_mape = pd.DataFrame(list(errors_mape.items()), columns=['Combo', 'Error_Value'])\n",
    "df_errors_mape[['Place', 'Product']] = pd.DataFrame(df_errors_mape['Combo'].tolist(), index=df_errors_mape.index)\n",
    "df_errors_mape[['Train_Err', 'Valid_Err', 'Test_Err']] = pd.DataFrame(df_errors_mape['Error_Value'].tolist(), index=df_errors_mape.index)\n",
    "df_errors_mape = df_errors_mape[['Place', 'Product', 'Train_Err', 'Valid_Err', 'Test_Err']]\n",
    "\n",
    "df_errors_cv = pd.DataFrame(list(errors_cv.items()), columns=['Combo', 'Error_CV'])\n",
    "df_errors_cv[['Place', 'Product']] = pd.DataFrame(df_errors_cv['Combo'].tolist(), index=df_errors_cv.index)\n",
    "df_errors_cv['CV_Err'] = df_errors_cv['Error_CV'].apply(np.sqrt)\n",
    "df_errors_cv = df_errors_cv[['Place', 'Product', 'CV_Err']]"
   ],
   "metadata": {
    "collapsed": false,
    "ExecuteTime": {
     "end_time": "2023-11-13T02:11:15.546394Z",
     "start_time": "2023-11-13T02:11:15.528780800Z"
    }
   },
   "id": "a6c2d75c06d0bb98"
  },
  {
   "cell_type": "code",
   "execution_count": 1222,
   "outputs": [],
   "source": [
    "# Удобная функция для построения графиков (с ней я тестировал, подбирал параметры)\n",
    "# Эта функция не лежит в разделе функции, потому что тут напрямую используются\n",
    "# предсказания, которые были получены клеткой кода выше\n",
    "def plot_predictions(place, product, title=''):\n",
    "    df_to_plot = df_all[(df_all['place'] == place) & (df_all['product'] == product)]\n",
    "    df_to_plot = df_to_plot[lag_end:]\n",
    "    if title == 'train':\n",
    "        y1_to_plot = df_to_plot['price'][:int(len(X)*test_size_coef)]\n",
    "        y2_to_plot = list(df_predictions_train[(df_predictions_train['Place'] == place) & (df_predictions_train['Product'] == product)]['Prediction'])[0]\n",
    "        indices = range(0, len(y1_to_plot))\n",
    "    if title == 'valid':\n",
    "        y1_to_plot = df_to_plot['price'][int(len(X)*test_size_coef): 810]\n",
    "        y2_to_plot = list(df_predictions_valid[(df_predictions_valid['Place'] == place) & (df_predictions_valid['Product'] == product)]['Prediction'])[0]\n",
    "        indices = range(int(len(X)*test_size_coef), 810)\n",
    "    if title == 'test':\n",
    "        y1_to_plot = df_to_plot['price'][-100:]\n",
    "        y2_to_plot = list(df_predictions_test[(df_predictions_test['Place'] == place) & (df_predictions_test['Product'] == product)]['Prediction'])[0]\n",
    "        indices = range(900, 1000)\n",
    "\n",
    "    plt.figure(figsize=(20, 4))\n",
    "    # Истинные значения (синяя ломаная линия)\n",
    "    plt.plot(indices, y1_to_plot, linestyle='-', color='blue', label='Истинные значения')\n",
    "\n",
    "    # Предсказанные значения (красная ломаная линия)\n",
    "    plt.plot(indices, y2_to_plot, linestyle='-', color='red', label='Предсказанные значения')\n",
    "\n",
    "    # Добавьте подписи и легенду\n",
    "    plt.title(title)\n",
    "    plt.xlabel('Date index')\n",
    "    plt.ylabel('Price')\n",
    "    plt.legend()\n",
    "\n",
    "    # Отобразите сетку для лучшей видимости\n",
    "    plt.grid(True, linestyle='--', alpha=0.7)\n",
    "\n",
    "    # Отобразите график\n",
    "    plt.show()"
   ],
   "metadata": {
    "collapsed": false,
    "ExecuteTime": {
     "end_time": "2023-11-13T02:11:15.555807600Z",
     "start_time": "2023-11-13T02:11:15.546394Z"
    }
   },
   "id": "b41374659a3ed760"
  },
  {
   "cell_type": "code",
   "execution_count": 1223,
   "outputs": [
    {
     "name": "stdout",
     "output_type": "stream",
     "text": [
      "RMSE:  0.6569\n",
      "MAPE:  4.0627\n",
      "CrossValidation:  0.8067\n"
     ]
    }
   ],
   "source": [
    "print(\"RMSE: \", round(df_errors_rmse['Valid_Err'].mean(), 4))\n",
    "print(\"MAPE: \",  round(df_errors_mape['Valid_Err'].mean()*100, 4))\n",
    "print(\"CrossValidation: \", round(df_errors_cv['CV_Err'].mean(), 4))"
   ],
   "metadata": {
    "collapsed": false,
    "ExecuteTime": {
     "end_time": "2023-11-13T02:11:15.564040100Z",
     "start_time": "2023-11-13T02:11:15.555807600Z"
    }
   },
   "id": "caf6907ae8e61201"
  },
  {
   "cell_type": "code",
   "execution_count": 1224,
   "outputs": [
    {
     "data": {
      "text/plain": "<Figure size 2000x400 with 1 Axes>",
      "image/png": "[encoded data removed]"
     },
     "metadata": {},
     "output_type": "display_data"
    }
   ],
   "source": [
    "plot_predictions('Фалькония', 'Целебные травы', 'valid')"
   ],
   "metadata": {
    "collapsed": false,
    "ExecuteTime": {
     "end_time": "2023-11-13T02:11:15.815668400Z",
     "start_time": "2023-11-13T02:11:15.564040100Z"
    }
   },
   "id": "72d59dc921b00f97"
  },
  {
   "cell_type": "markdown",
   "source": [
    "# Строим и тестируем модель для предсказания цен соперников"
   ],
   "metadata": {
    "collapsed": false
   },
   "id": "392f07e1b81cfa97"
  },
  {
   "cell_type": "code",
   "execution_count": 1225,
   "outputs": [
    {
     "name": "stderr",
     "output_type": "stream",
     "text": [
      "100%|██████████| 5/5 [00:00<00:00, 20.00it/s]\n"
     ]
    }
   ],
   "source": [
    "# Увидел, что средние цены конкурентов очень хорошо опишутся линейной регрессией с одним параметром.\n",
    "# Мне нужны предсказания цен соперников для того, чтобы оценить превышение в 20%\n",
    "\n",
    "predictions_competitors_train = {}\n",
    "predictions_competitors_valid = {}\n",
    "errors_competitors_cv = {}\n",
    "for place in tqdm(transactions['place'].unique()):\n",
    "    for product in transactions['product'].unique():\n",
    "        combo = (place, product)\n",
    "        cur_df = df_all[(df_all['place'] == place) & (df_all['product'] == product)].drop(columns=['place', 'product']).sort_values('date').reset_index(drop=True)\n",
    "        cur_df['date_index'] = np.arange(len(cur_df.index))\n",
    "        \n",
    "        X_comp = cur_df.sort_values('date').reset_index(drop=True)[['date_index']]\n",
    "        y_comp = cur_df.sort_values('date').reset_index(drop=True)['competitors_mean']\n",
    "\n",
    "        test_size_coef_comp = 0.8\n",
    "\n",
    "        X_train_comp = X_comp[:int(len(X_comp)*test_size_coef_comp)]\n",
    "        y_train_comp = y_comp[:int(len(X_comp)*test_size_coef_comp)]\n",
    "\n",
    "        X_valid_comp = X_comp[int(len(X_comp)*test_size_coef_comp):]\n",
    "        y_valid_comp = y_comp[int(len(X_comp)*test_size_coef_comp):]\n",
    "        model_lr_comp = LinearRegression()\n",
    "        model_lr_comp.fit(X_train_comp, y_train_comp)\n",
    "        predictions_competitors_train[combo] = model_lr_comp.predict(X_train_comp)\n",
    "        predictions_competitors_valid[combo] = model_lr_comp.predict(X_valid_comp)\n",
    "\n",
    "        errors_competitors_cv[combo] = np.sqrt(performTimeSeriesCV(X_train_comp, y_train_comp, 7, model_lr_comp, mean_squared_error))\n",
    "\n",
    "        # Можно раскомментировать и посмотреть на построенные лин регрессии:\n",
    "        \n",
    "        # plt.plot(range(800) ,y_train_comp)                        \n",
    "        # plt.plot(range(800) ,predictions_competitors_train[combo])  \n",
    "        # plt.title(place + ' ' + product)\n",
    "        # plt.show()"
   ],
   "metadata": {
    "collapsed": false,
    "ExecuteTime": {
     "end_time": "2023-11-13T02:11:16.079171800Z",
     "start_time": "2023-11-13T02:11:15.815668400Z"
    }
   },
   "id": "b9758793374bd561"
  },
  {
   "cell_type": "code",
   "execution_count": 1226,
   "outputs": [
    {
     "name": "stdout",
     "output_type": "stream",
     "text": [
      "CV on competitors_mean:  0.7151375276607649\n"
     ]
    }
   ],
   "source": [
    "# Средняя ошибка кросс валидации 0.7, что совсем неплохо, т.к. предсказания цен конкурентов нужны лишь для того, чтобы\n",
    "# найти, где предсказанные значения превышают цены конкурентов больше, чем на 20%\n",
    "\n",
    "df_errors_competitors_cv = pd.DataFrame(list(errors_competitors_cv.items()), columns=['Combo', 'Error_Value'])\n",
    "df_errors_competitors_cv[['Place', 'Product']] = pd.DataFrame(df_errors_competitors_cv['Combo'].tolist(), index=df_errors_competitors_cv.index)\n",
    "print(\"CV on competitors_mean: \", df_errors_competitors_cv['Error_Value'].mean())"
   ],
   "metadata": {
    "collapsed": false,
    "ExecuteTime": {
     "end_time": "2023-11-13T02:11:16.084668200Z",
     "start_time": "2023-11-13T02:11:16.079171800Z"
    }
   },
   "id": "90c0ce09b21a136d"
  },
  {
   "cell_type": "markdown",
   "source": [
    "# Предсказываем, уточняем\n",
    "Тут тот же код что и раньше, только уже без деления на выборки. Предсказываем на 90 дней вперед. Затем собираем все вместе."
   ],
   "metadata": {
    "collapsed": false
   },
   "id": "73b4e911f8a9c1b4"
  },
  {
   "cell_type": "code",
   "execution_count": 1227,
   "outputs": [
    {
     "name": "stderr",
     "output_type": "stream",
     "text": [
      "100%|██████████| 5/5 [00:00<00:00, 63.99it/s]\n"
     ]
    }
   ],
   "source": [
    "# Предсказываем среднюю цену конкурентов\n",
    "\n",
    "predictions_competitors_mean = {}\n",
    "for place in tqdm(transactions['place'].unique()):\n",
    "    for product in transactions['product'].unique():\n",
    "        combo = (place, product)\n",
    "        cur_df = df_all[(df_all['place'] == place) & (df_all['product'] == product)].drop(columns=['place', 'product']).sort_values('date').reset_index(drop=True)\n",
    "        cur_df['date_index'] = np.arange(len(cur_df.index))\n",
    "\n",
    "        X_comp = cur_df.sort_values('date').reset_index(drop=True)[['date_index']]\n",
    "        y_comp = cur_df.sort_values('date').reset_index(drop=True)['competitors_mean']\n",
    "\n",
    "        model_lr_comp = LinearRegression()\n",
    "        model_lr_comp.fit(X_comp, y_comp)\n",
    "        predictions_competitors_mean[combo] = model_lr_comp.predict(pd.DataFrame({'date_index': range(1000, 1090)}))\n",
    "\n",
    "df_predictions_comp_mean = pd.DataFrame(list(predictions_competitors_mean.items()), columns=['Combo', 'Prediction'])\n",
    "df_predictions_comp_mean[['Place', 'Product']] = pd.DataFrame(df_predictions_comp_mean['Combo'].tolist(), index=df_predictions_comp_mean.index)\n",
    "df_predictions_comp_mean = df_predictions_comp_mean[['Place', 'Product', 'Prediction']]"
   ],
   "metadata": {
    "collapsed": false,
    "ExecuteTime": {
     "end_time": "2023-11-13T02:11:16.178938100Z",
     "start_time": "2023-11-13T02:11:16.084668200Z"
    }
   },
   "id": "c66e3d4fa4a8af52"
  },
  {
   "cell_type": "code",
   "execution_count": 1228,
   "outputs": [
    {
     "name": "stderr",
     "output_type": "stream",
     "text": [
      "100%|██████████| 5/5 [00:00<00:00, 16.00it/s]\n"
     ]
    }
   ],
   "source": [
    "# Предсказываем наши цены\n",
    "\n",
    "predictions_price = {}\n",
    "for place in tqdm(transactions['place'].unique()):\n",
    "    for product in transactions['product'].unique():\n",
    "        combo = (place, product)\n",
    "        cur_df = df_all[(df_all['place'] == place) & (df_all['product'] == product)].drop(columns=['place', 'product']).sort_values('date').reset_index(drop=True)\n",
    "        cur_df['date_index'] = np.arange(len(cur_df.index))\n",
    "        cur_df['moving_avg_price'] = cur_df['price'].rolling(\n",
    "            window=50,\n",
    "            center=True,\n",
    "            min_periods=10\n",
    "        ).mean()\n",
    "        cur_df['moving_avg_cost'] = cur_df['cost'].rolling(\n",
    "            window=25,\n",
    "            center=True,\n",
    "            min_periods=10\n",
    "        ).mean()\n",
    "\n",
    "        X = cur_df.sort_values('date').reset_index(drop=True)[[]]\n",
    "        y = cur_df.sort_values('date').reset_index(drop=True)['price']\n",
    "\n",
    "        X_pred = pd.DataFrame()\n",
    "\n",
    "        lag_start = 90\n",
    "        lag_end = 100\n",
    "        for lag in range(lag_start, lag_end):\n",
    "\n",
    "            X_pred[f'lag_price_{lag}'] =  cur_df['price'][-lag:].head(90).reset_index(drop=True)\n",
    "            X_pred[f'lag_mov_avg_price_{lag}'] = cur_df['moving_avg_price'][-lag:].head(90).reset_index(drop=True)\n",
    "            X_pred[f'lag_cost_{lag}'] = cur_df['moving_avg_cost'][-lag: ].head(90).reset_index(drop=True)\n",
    "            \n",
    "            X[f'lag_price_{lag}'] = cur_df['price'].shift(lag)\n",
    "            X[f'lag_mov_avg_price_{lag}'] = cur_df['moving_avg_price'].shift(lag)\n",
    "            X[f'lag_cost_{lag}'] = cur_df['moving_avg_cost'].shift(lag)\n",
    "        X = X[lag_end:].reset_index(drop=True)\n",
    "        y = y[lag_end:].reset_index(drop=True)\n",
    "\n",
    "        model_lr = Ridge(alpha=50)\n",
    "        model_lr.fit(X, y)\n",
    "        predictions_price[combo] = model_lr.predict(X_pred)\n",
    "\n",
    "df_predictions_price = pd.DataFrame(list(predictions_price.items()), columns=['Combo', 'Prediction'])\n",
    "df_predictions_price[['Place', 'Product']] = pd.DataFrame(df_predictions_price['Combo'].tolist(), index=df_predictions_price.index)\n",
    "df_predictions_price = df_predictions_price[['Place', 'Product', 'Prediction']]"
   ],
   "metadata": {
    "collapsed": false,
    "ExecuteTime": {
     "end_time": "2023-11-13T02:11:16.496185Z",
     "start_time": "2023-11-13T02:11:16.178938100Z"
    }
   },
   "id": "93cba22eaa7ad727"
  },
  {
   "cell_type": "code",
   "execution_count": 1229,
   "outputs": [],
   "source": [
    "# Собираем предсказания о наших ценах и о ценах конкурентов в один датафрейм.\n",
    "# Сравниваем цены, если наши цены превышают цены конкурентов больше чем на 20%,\n",
    "# то ставим в этот день цену равную 1.2*конкурента\n",
    "\n",
    "df_merged_predictions = pd.merge(df_predictions_price, df_predictions_comp_mean, on=['Place', 'Product'], suffixes=('_mine', '_competitor'))\n",
    "\n",
    "def adjust_prices(row):\n",
    "    mine_prices = np.array(row['Prediction_mine'])\n",
    "    competitor_prices = np.array(row['Prediction_competitor'])\n",
    "    exceeds_by_20_percent = mine_prices > competitor_prices * 1.2\n",
    "    mine_prices[exceeds_by_20_percent] = competitor_prices[exceeds_by_20_percent] * 1.2\n",
    "    return mine_prices.tolist()\n",
    "\n",
    "df_merged_predictions['Prediction_no_20p'] = df_merged_predictions.apply(adjust_prices, axis=1)"
   ],
   "metadata": {
    "collapsed": false,
    "ExecuteTime": {
     "end_time": "2023-11-13T02:11:16.504059100Z",
     "start_time": "2023-11-13T02:11:16.496185Z"
    }
   },
   "id": "95ce6f45e57adc49"
  },
  {
   "cell_type": "code",
   "execution_count": 1230,
   "outputs": [
    {
     "data": {
      "text/plain": "<Figure size 640x480 with 1 Axes>",
      "image/png": "[encoded data removed]"
     },
     "metadata": {},
     "output_type": "display_data"
    }
   ],
   "source": [
    "# Результат корректировки цен на примере проблемной комбинации (таких было 2 из 15)\n",
    "\n",
    "df_plot =df_merged_predictions[(df_merged_predictions['Place']  == 'Анор Лондо') & (df_merged_predictions['Product'] == 'Целебные травы')]\n",
    "plt.plot(range(0,90),list(df_plot['Prediction_mine'])[0], label='Mine')\n",
    "plt.plot(range(0,90),list(df_plot['Prediction_competitor'])[0],label='Competitors')\n",
    "plt.plot(range(0,90),list(df_plot['Prediction_no_20p'])[0], label='Mine_corrected')\n",
    "plt.legend()\n",
    "plt.show()"
   ],
   "metadata": {
    "collapsed": false,
    "ExecuteTime": {
     "end_time": "2023-11-13T02:11:16.663935800Z",
     "start_time": "2023-11-13T02:11:16.504059100Z"
    }
   },
   "id": "955dd52f46aaadea"
  },
  {
   "cell_type": "code",
   "execution_count": 1231,
   "outputs": [],
   "source": [
    "# Здесь я пересобираю датафрейм, т.к. нужно было привести результаты к ступенчатому виду\n",
    "# (функция make_stepped, она же округляет до 2 знаков, описана в разделе Функции).\n",
    "\n",
    "df_almost_final = pd.DataFrame(columns=['Place', 'Product', 'Final_prices'])\n",
    "for index, row in df_merged_predictions.iterrows():\n",
    "    new_data = {'Place': row['Place'], 'Product': row['Product'], 'Final_prices' : make_stepped(row['Prediction_no_20p'])}\n",
    "    df_almost_final.loc[len(df_almost_final)] = new_data"
   ],
   "metadata": {
    "collapsed": false,
    "ExecuteTime": {
     "end_time": "2023-11-13T02:11:16.683382800Z",
     "start_time": "2023-11-13T02:11:16.683382800Z"
    }
   },
   "id": "fa77640e940d9ab0"
  },
  {
   "cell_type": "code",
   "execution_count": 1232,
   "outputs": [],
   "source": [
    "# И в конце приведение к нужному виду\n",
    "\n",
    "df_transformed = pd.DataFrame(df_almost_final['Final_prices'].tolist(), index=df_almost_final.index).stack().reset_index()\n",
    "df_transformed.columns = ['index', 'day_number', 'price']\n",
    "df_transformed = df_transformed.join(df_almost_final[['Place', 'Product']], on='index').drop('index', axis=1)\n",
    "df_transformed['day_number'] += 1\n",
    "df_transformed = df_transformed.rename(columns={'Place' : 'place', 'Product' : 'product'})"
   ],
   "metadata": {
    "collapsed": false,
    "ExecuteTime": {
     "end_time": "2023-11-13T02:11:16.693006900Z",
     "start_time": "2023-11-13T02:11:16.683382800Z"
    }
   },
   "id": "f5df473e3d5ebb1d"
  },
  {
   "cell_type": "code",
   "execution_count": 1233,
   "outputs": [],
   "source": [
    "df_transformed.to_parquet(\"results.parquet\")"
   ],
   "metadata": {
    "collapsed": false,
    "ExecuteTime": {
     "end_time": "2023-11-13T02:11:16.732349500Z",
     "start_time": "2023-11-13T02:11:16.693006900Z"
    }
   },
   "id": "39f925509cb44b6c"
  }
 ],
 "metadata": {
  "kernelspec": {
   "display_name": "Python 3",
   "language": "python",
   "name": "python3"
  },
  "language_info": {
   "codemirror_mode": {
    "name": "ipython",
    "version": 2
   },
   "file_extension": ".py",
   "mimetype": "text/x-python",
   "name": "python",
   "nbconvert_exporter": "python",
   "pygments_lexer": "ipython2",
   "version": "2.7.6"
  }
 },
 "nbformat": 4,
 "nbformat_minor": 5
}
